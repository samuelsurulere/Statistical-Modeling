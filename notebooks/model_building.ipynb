{
 "cells": [
  {
   "cell_type": "markdown",
   "metadata": {},
   "source": [
    "## Build a regression model."
   ]
  },
  {
   "cell_type": "markdown",
   "metadata": {},
   "source": [
    "### Feature Engineering"
   ]
  },
  {
   "cell_type": "code",
   "execution_count": 1,
   "metadata": {},
   "outputs": [],
   "source": [
    "import sqlite3\n",
    "from sqlite3 import Error\n",
    "import pandas as pd\n",
    "import statsmodels.api as sm\n",
    "from scipy.stats import stats as st\n",
    "import seaborn as sns\n",
    "import matplotlib.pyplot as plt\n",
    "import numpy as np\n",
    "import scipy"
   ]
  },
  {
   "cell_type": "code",
   "execution_count": 2,
   "metadata": {},
   "outputs": [],
   "source": [
    "connection = sqlite3.connect('City_Bikes_information_DB.db')\n",
    "cur = connection.cursor()\n",
    "aggregated_dataframe = pd.read_sql_query('SELECT * FROM aggregated_dataframe', connection)\n",
    "\n",
    "connection.close()"
   ]
  },
  {
   "cell_type": "code",
   "execution_count": 3,
   "metadata": {},
   "outputs": [
    {
     "name": "stdout",
     "output_type": "stream",
     "text": [
      "<class 'pandas.core.frame.DataFrame'>\n",
      "RangeIndex: 460 entries, 0 to 459\n",
      "Data columns (total 6 columns):\n",
      " #   Column        Non-Null Count  Dtype  \n",
      "---  ------        --------------  -----  \n",
      " 0   latitude      460 non-null    float64\n",
      " 1   longitude     460 non-null    float64\n",
      " 2   total_bikes   460 non-null    float64\n",
      " 3   review_count  460 non-null    float64\n",
      " 4   rating        460 non-null    float64\n",
      " 5   popularity    460 non-null    float64\n",
      "dtypes: float64(6)\n",
      "memory usage: 21.7 KB\n"
     ]
    }
   ],
   "source": [
    "aggregated_dataframe.info()"
   ]
  },
  {
   "cell_type": "code",
   "execution_count": 4,
   "metadata": {},
   "outputs": [
    {
     "data": {
      "text/html": [
       "<div>\n",
       "<style scoped>\n",
       "    .dataframe tbody tr th:only-of-type {\n",
       "        vertical-align: middle;\n",
       "    }\n",
       "\n",
       "    .dataframe tbody tr th {\n",
       "        vertical-align: top;\n",
       "    }\n",
       "\n",
       "    .dataframe thead th {\n",
       "        text-align: right;\n",
       "    }\n",
       "</style>\n",
       "<table border=\"1\" class=\"dataframe\">\n",
       "  <thead>\n",
       "    <tr style=\"text-align: right;\">\n",
       "      <th></th>\n",
       "      <th>latitude</th>\n",
       "      <th>longitude</th>\n",
       "      <th>total_bikes</th>\n",
       "      <th>review_count</th>\n",
       "      <th>rating</th>\n",
       "      <th>popularity</th>\n",
       "    </tr>\n",
       "  </thead>\n",
       "  <tbody>\n",
       "    <tr>\n",
       "      <th>count</th>\n",
       "      <td>460.000000</td>\n",
       "      <td>460.000000</td>\n",
       "      <td>460.000000</td>\n",
       "      <td>460.000000</td>\n",
       "      <td>460.000000</td>\n",
       "      <td>460.000000</td>\n",
       "    </tr>\n",
       "    <tr>\n",
       "      <th>mean</th>\n",
       "      <td>40.729415</td>\n",
       "      <td>-73.971538</td>\n",
       "      <td>3.369248</td>\n",
       "      <td>2.447753</td>\n",
       "      <td>4.209837</td>\n",
       "      <td>0.978997</td>\n",
       "    </tr>\n",
       "    <tr>\n",
       "      <th>std</th>\n",
       "      <td>0.041136</td>\n",
       "      <td>0.033529</td>\n",
       "      <td>0.429592</td>\n",
       "      <td>0.037404</td>\n",
       "      <td>0.108589</td>\n",
       "      <td>0.009384</td>\n",
       "    </tr>\n",
       "    <tr>\n",
       "      <th>min</th>\n",
       "      <td>40.664241</td>\n",
       "      <td>-74.071061</td>\n",
       "      <td>2.302585</td>\n",
       "      <td>2.331841</td>\n",
       "      <td>3.875000</td>\n",
       "      <td>0.957015</td>\n",
       "    </tr>\n",
       "    <tr>\n",
       "      <th>25%</th>\n",
       "      <td>40.693573</td>\n",
       "      <td>-73.993394</td>\n",
       "      <td>3.044522</td>\n",
       "      <td>2.421770</td>\n",
       "      <td>4.150000</td>\n",
       "      <td>0.971440</td>\n",
       "    </tr>\n",
       "    <tr>\n",
       "      <th>50%</th>\n",
       "      <td>40.720788</td>\n",
       "      <td>-73.964631</td>\n",
       "      <td>3.295837</td>\n",
       "      <td>2.443275</td>\n",
       "      <td>4.225000</td>\n",
       "      <td>0.978480</td>\n",
       "    </tr>\n",
       "    <tr>\n",
       "      <th>75%</th>\n",
       "      <td>40.763133</td>\n",
       "      <td>-73.946727</td>\n",
       "      <td>3.663562</td>\n",
       "      <td>2.472794</td>\n",
       "      <td>4.275000</td>\n",
       "      <td>0.987859</td>\n",
       "    </tr>\n",
       "    <tr>\n",
       "      <th>max</th>\n",
       "      <td>40.814394</td>\n",
       "      <td>-73.907744</td>\n",
       "      <td>4.418841</td>\n",
       "      <td>2.533772</td>\n",
       "      <td>4.450000</td>\n",
       "      <td>0.999584</td>\n",
       "    </tr>\n",
       "  </tbody>\n",
       "</table>\n",
       "</div>"
      ],
      "text/plain": [
       "         latitude   longitude  total_bikes  review_count      rating  \\\n",
       "count  460.000000  460.000000   460.000000    460.000000  460.000000   \n",
       "mean    40.729415  -73.971538     3.369248      2.447753    4.209837   \n",
       "std      0.041136    0.033529     0.429592      0.037404    0.108589   \n",
       "min     40.664241  -74.071061     2.302585      2.331841    3.875000   \n",
       "25%     40.693573  -73.993394     3.044522      2.421770    4.150000   \n",
       "50%     40.720788  -73.964631     3.295837      2.443275    4.225000   \n",
       "75%     40.763133  -73.946727     3.663562      2.472794    4.275000   \n",
       "max     40.814394  -73.907744     4.418841      2.533772    4.450000   \n",
       "\n",
       "       popularity  \n",
       "count  460.000000  \n",
       "mean     0.978997  \n",
       "std      0.009384  \n",
       "min      0.957015  \n",
       "25%      0.971440  \n",
       "50%      0.978480  \n",
       "75%      0.987859  \n",
       "max      0.999584  "
      ]
     },
     "execution_count": 4,
     "metadata": {},
     "output_type": "execute_result"
    }
   ],
   "source": [
    "aggregated_dataframe.describe()"
   ]
  },
  {
   "cell_type": "markdown",
   "metadata": {},
   "source": [
    "## Testing for correlation between variables"
   ]
  },
  {
   "cell_type": "code",
   "execution_count": 5,
   "metadata": {},
   "outputs": [
    {
     "data": {
      "text/plain": [
       "1.3698059740758493e-27"
      ]
     },
     "execution_count": 5,
     "metadata": {},
     "output_type": "execute_result"
    }
   ],
   "source": [
    "stats, p_value = scipy.stats.pearsonr(aggregated_dataframe['total_bikes'], aggregated_dataframe['review_count'])\n",
    "p_value"
   ]
  },
  {
   "cell_type": "code",
   "execution_count": 6,
   "metadata": {},
   "outputs": [
    {
     "data": {
      "text/plain": [
       "8.94049852233941e-30"
      ]
     },
     "execution_count": 6,
     "metadata": {},
     "output_type": "execute_result"
    }
   ],
   "source": [
    "stats, p_value = scipy.stats.pearsonr(aggregated_dataframe['total_bikes'], aggregated_dataframe['popularity'])\n",
    "p_value"
   ]
  },
  {
   "cell_type": "code",
   "execution_count": 7,
   "metadata": {},
   "outputs": [
    {
     "data": {
      "text/plain": [
       "0.09763310593156743"
      ]
     },
     "execution_count": 7,
     "metadata": {},
     "output_type": "execute_result"
    }
   ],
   "source": [
    "stats, p_value = scipy.stats.pearsonr(aggregated_dataframe['total_bikes'], aggregated_dataframe['rating'])\n",
    "p_value"
   ]
  },
  {
   "cell_type": "markdown",
   "metadata": {},
   "source": [
    "These p_values (< 0.05) informs us that there is statistically significant correlation between the number of bikes in a location, the reviews from nearby POIs and popularity index of nearby POIs. There is no statistical evidence of correlation between the number of bikes and the average rating of bars, restaurants, and parks. "
   ]
  },
  {
   "cell_type": "code",
   "execution_count": 8,
   "metadata": {},
   "outputs": [
    {
     "data": {
      "text/html": [
       "<div>\n",
       "<style scoped>\n",
       "    .dataframe tbody tr th:only-of-type {\n",
       "        vertical-align: middle;\n",
       "    }\n",
       "\n",
       "    .dataframe tbody tr th {\n",
       "        vertical-align: top;\n",
       "    }\n",
       "\n",
       "    .dataframe thead th {\n",
       "        text-align: right;\n",
       "    }\n",
       "</style>\n",
       "<table border=\"1\" class=\"dataframe\">\n",
       "  <thead>\n",
       "    <tr style=\"text-align: right;\">\n",
       "      <th></th>\n",
       "      <th>latitude</th>\n",
       "      <th>longitude</th>\n",
       "      <th>total_bikes</th>\n",
       "      <th>review_count</th>\n",
       "      <th>rating</th>\n",
       "      <th>popularity</th>\n",
       "    </tr>\n",
       "  </thead>\n",
       "  <tbody>\n",
       "    <tr>\n",
       "      <th>latitude</th>\n",
       "      <td>1.000000</td>\n",
       "      <td>0.283676</td>\n",
       "      <td>0.166615</td>\n",
       "      <td>0.199601</td>\n",
       "      <td>-0.125858</td>\n",
       "      <td>0.403155</td>\n",
       "    </tr>\n",
       "    <tr>\n",
       "      <th>longitude</th>\n",
       "      <td>0.283676</td>\n",
       "      <td>1.000000</td>\n",
       "      <td>-0.065606</td>\n",
       "      <td>-0.104631</td>\n",
       "      <td>0.301921</td>\n",
       "      <td>-0.120118</td>\n",
       "    </tr>\n",
       "    <tr>\n",
       "      <th>total_bikes</th>\n",
       "      <td>0.166615</td>\n",
       "      <td>-0.065606</td>\n",
       "      <td>1.000000</td>\n",
       "      <td>0.477630</td>\n",
       "      <td>-0.077327</td>\n",
       "      <td>0.494764</td>\n",
       "    </tr>\n",
       "    <tr>\n",
       "      <th>review_count</th>\n",
       "      <td>0.199601</td>\n",
       "      <td>-0.104631</td>\n",
       "      <td>0.477630</td>\n",
       "      <td>1.000000</td>\n",
       "      <td>-0.098657</td>\n",
       "      <td>0.450082</td>\n",
       "    </tr>\n",
       "    <tr>\n",
       "      <th>rating</th>\n",
       "      <td>-0.125858</td>\n",
       "      <td>0.301921</td>\n",
       "      <td>-0.077327</td>\n",
       "      <td>-0.098657</td>\n",
       "      <td>1.000000</td>\n",
       "      <td>-0.252968</td>\n",
       "    </tr>\n",
       "    <tr>\n",
       "      <th>popularity</th>\n",
       "      <td>0.403155</td>\n",
       "      <td>-0.120118</td>\n",
       "      <td>0.494764</td>\n",
       "      <td>0.450082</td>\n",
       "      <td>-0.252968</td>\n",
       "      <td>1.000000</td>\n",
       "    </tr>\n",
       "  </tbody>\n",
       "</table>\n",
       "</div>"
      ],
      "text/plain": [
       "              latitude  longitude  total_bikes  review_count    rating  \\\n",
       "latitude      1.000000   0.283676     0.166615      0.199601 -0.125858   \n",
       "longitude     0.283676   1.000000    -0.065606     -0.104631  0.301921   \n",
       "total_bikes   0.166615  -0.065606     1.000000      0.477630 -0.077327   \n",
       "review_count  0.199601  -0.104631     0.477630      1.000000 -0.098657   \n",
       "rating       -0.125858   0.301921    -0.077327     -0.098657  1.000000   \n",
       "popularity    0.403155  -0.120118     0.494764      0.450082 -0.252968   \n",
       "\n",
       "              popularity  \n",
       "latitude        0.403155  \n",
       "longitude      -0.120118  \n",
       "total_bikes     0.494764  \n",
       "review_count    0.450082  \n",
       "rating         -0.252968  \n",
       "popularity      1.000000  "
      ]
     },
     "execution_count": 8,
     "metadata": {},
     "output_type": "execute_result"
    }
   ],
   "source": [
    "aggregated_dataframe.corr(numeric_only=True)"
   ]
  },
  {
   "cell_type": "markdown",
   "metadata": {},
   "source": [
    "## Feature selection: Backward elimination"
   ]
  },
  {
   "cell_type": "code",
   "execution_count": 9,
   "metadata": {},
   "outputs": [],
   "source": [
    "y = aggregated_dataframe['total_bikes']\n",
    "X = aggregated_dataframe.drop('total_bikes', axis=1)\n",
    "X = sm.add_constant(X) \n",
    "\n",
    "model = sm.OLS(y, X)\n",
    "results = model.fit()"
   ]
  },
  {
   "cell_type": "markdown",
   "metadata": {},
   "source": [
    "Provide model output and an interpretation of the results. "
   ]
  },
  {
   "cell_type": "code",
   "execution_count": 10,
   "metadata": {},
   "outputs": [
    {
     "name": "stdout",
     "output_type": "stream",
     "text": [
      "                            OLS Regression Results                            \n",
      "==============================================================================\n",
      "Dep. Variable:            total_bikes   R-squared:                       0.330\n",
      "Model:                            OLS   Adj. R-squared:                  0.323\n",
      "Method:                 Least Squares   F-statistic:                     44.76\n",
      "Date:                Mon, 25 Sep 2023   Prob (F-statistic):           1.55e-37\n",
      "Time:                        21:33:25   Log-Likelihood:                -171.38\n",
      "No. Observations:                 460   AIC:                             354.8\n",
      "Df Residuals:                     454   BIC:                             379.5\n",
      "Df Model:                           5                                         \n",
      "Covariance Type:            nonrobust                                         \n",
      "================================================================================\n",
      "                   coef    std err          t      P>|t|      [0.025      0.975]\n",
      "--------------------------------------------------------------------------------\n",
      "const           14.2913     51.969      0.275      0.783     -87.838     116.420\n",
      "latitude        -0.5396      0.477     -1.132      0.258      -1.476       0.397\n",
      "longitude        0.2137      0.563      0.380      0.704      -0.892       1.320\n",
      "review_count     3.6889      0.496      7.440      0.000       2.715       4.663\n",
      "rating           0.1572      0.166      0.949      0.343      -0.168       0.483\n",
      "popularity      17.5373      2.185      8.026      0.000      13.243      21.832\n",
      "==============================================================================\n",
      "Omnibus:                        3.913   Durbin-Watson:                   1.967\n",
      "Prob(Omnibus):                  0.141   Jarque-Bera (JB):                3.836\n",
      "Skew:                           0.224   Prob(JB):                        0.147\n",
      "Kurtosis:                       3.013   Cond. No.                     2.67e+05\n",
      "==============================================================================\n",
      "\n",
      "Notes:\n",
      "[1] Standard Errors assume that the covariance matrix of the errors is correctly specified.\n",
      "[2] The condition number is large, 2.67e+05. This might indicate that there are\n",
      "strong multicollinearity or other numerical problems.\n"
     ]
    }
   ],
   "source": [
    "print(results.summary())"
   ]
  },
  {
   "cell_type": "code",
   "execution_count": 11,
   "metadata": {},
   "outputs": [],
   "source": [
    "y = aggregated_dataframe['total_bikes']\n",
    "X = aggregated_dataframe.drop(['total_bikes', 'latitude', 'longitude'], axis=1)\n",
    "X = sm.add_constant(X) \n",
    "\n",
    "model = sm.OLS(y, X)\n",
    "results = model.fit()"
   ]
  },
  {
   "cell_type": "code",
   "execution_count": 12,
   "metadata": {},
   "outputs": [
    {
     "name": "stdout",
     "output_type": "stream",
     "text": [
      "                            OLS Regression Results                            \n",
      "==============================================================================\n",
      "Dep. Variable:            total_bikes   R-squared:                       0.328\n",
      "Model:                            OLS   Adj. R-squared:                  0.324\n",
      "Method:                 Least Squares   F-statistic:                     74.28\n",
      "Date:                Mon, 25 Sep 2023   Prob (F-statistic):           3.91e-39\n",
      "Time:                        21:33:27   Log-Likelihood:                -172.03\n",
      "No. Observations:                 460   AIC:                             352.1\n",
      "Df Residuals:                     456   BIC:                             368.6\n",
      "Df Model:                           3                                         \n",
      "Covariance Type:            nonrobust                                         \n",
      "================================================================================\n",
      "                   coef    std err          t      P>|t|      [0.025      0.975]\n",
      "--------------------------------------------------------------------------------\n",
      "const          -22.6223      2.073    -10.915      0.000     -26.695     -18.549\n",
      "review_count     3.6619      0.494      7.417      0.000       2.692       4.632\n",
      "rating           0.1817      0.157      1.157      0.248      -0.127       0.490\n",
      "popularity      16.6122      2.024      8.207      0.000      12.634      20.590\n",
      "==============================================================================\n",
      "Omnibus:                        3.618   Durbin-Watson:                   1.957\n",
      "Prob(Omnibus):                  0.164   Jarque-Bera (JB):                3.507\n",
      "Skew:                           0.213   Prob(JB):                        0.173\n",
      "Kurtosis:                       3.033   Cond. No.                         840.\n",
      "==============================================================================\n",
      "\n",
      "Notes:\n",
      "[1] Standard Errors assume that the covariance matrix of the errors is correctly specified.\n"
     ]
    }
   ],
   "source": [
    "print(results.summary())"
   ]
  },
  {
   "cell_type": "markdown",
   "metadata": {},
   "source": [
    "#### This model has an R^2 value of 0.382 and an adjusted R^2 value of 0.324. All the p_values are also less than 0.05, except for the rating. This agrees with the earlier hypothesis that there is no statistical evidence of correlation between the average rating of POIs and the number of bikes in that location.\n",
    "\n",
    "The p_values suggest that the review_count and popularity are statistically significant to the total number of bikes in a particular location. The coefficient of the number of reviews shows that although the rating has a positive slope, it does not really have an influence on the number of bikes (as its value is very close to 0). Popularity index has a really strong positive influence on the number of bikes per location. This agrees with realistic inference as restaurants use this index for forecasting.\n",
    "\n",
    "This basically means, the higher the popularity index, the more the number of bikes in that location.\n",
    "\n",
    "I didn't really have much time to properly investigate, tweak and modify the model. So it is possible that this statistical model is not reliable due to the following reasons:\n",
    "\n",
    "1. I used brute-force in removing the outliers (time constraint).\n",
    "2. I aggregated the popularity index by calculating the mean grouped by location, latitidue and number of bikes. Same process was done for the rating.\n",
    "3. I reduced the data from 100000 to 400 which was relevant for the analysis I am currently presenting. The reduction was a byproduct of removing null values and outliers."
   ]
  },
  {
   "cell_type": "markdown",
   "metadata": {},
   "source": [
    "## Checking the Linear Regression model assumptions by testing for linearity, independence, homoscedasticity, normality and multicolinearity"
   ]
  },
  {
   "cell_type": "code",
   "execution_count": 13,
   "metadata": {},
   "outputs": [
    {
     "data": {
      "text/plain": [
       "0     -0.158192\n",
       "1      0.038939\n",
       "2      0.099795\n",
       "3      0.045773\n",
       "4     -0.116436\n",
       "         ...   \n",
       "455   -0.219484\n",
       "456   -0.370838\n",
       "457    0.107620\n",
       "458    0.204598\n",
       "459   -0.278513\n",
       "Length: 460, dtype: float64"
      ]
     },
     "execution_count": 13,
     "metadata": {},
     "output_type": "execute_result"
    }
   ],
   "source": [
    "residuals = results.resid #same unit as target or depend var\n",
    "residuals"
   ]
  },
  {
   "cell_type": "code",
   "execution_count": 14,
   "metadata": {},
   "outputs": [
    {
     "data": {
      "image/png": "[encoded data removed]",
      "text/plain": [
       "<Figure size 640x480 with 1 Axes>"
      ]
     },
     "metadata": {},
     "output_type": "display_data"
    }
   ],
   "source": [
    "sns.histplot(residuals)\n",
    "plt.show()"
   ]
  },
  {
   "cell_type": "code",
   "execution_count": 15,
   "metadata": {},
   "outputs": [
    {
     "data": {
      "image/png": "[encoded data removed]",
      "text/plain": [
       "<Figure size 640x480 with 1 Axes>"
      ]
     },
     "metadata": {},
     "output_type": "display_data"
    }
   ],
   "source": [
    "sm.qqplot(residuals, line='r')\n",
    "plt.show()"
   ]
  },
  {
   "cell_type": "markdown",
   "metadata": {},
   "source": [
    "### The errors are normally distributed."
   ]
  },
  {
   "cell_type": "code",
   "execution_count": 16,
   "metadata": {},
   "outputs": [
    {
     "data": {
      "text/plain": [
       "ShapiroResult(statistic=0.9915230870246887, pvalue=0.009910293854773045)"
      ]
     },
     "execution_count": 16,
     "metadata": {},
     "output_type": "execute_result"
    }
   ],
   "source": [
    "scipy.stats.shapiro(residuals)"
   ]
  },
  {
   "cell_type": "markdown",
   "metadata": {},
   "source": [
    "The residuals from the model are normally distributed. We fail to reject the null hypothesis."
   ]
  },
  {
   "cell_type": "code",
   "execution_count": 17,
   "metadata": {},
   "outputs": [
    {
     "data": {
      "text/plain": [
       "<matplotlib.lines.Line2D at 0x27f714ac550>"
      ]
     },
     "execution_count": 17,
     "metadata": {},
     "output_type": "execute_result"
    },
    {
     "data": {
      "image/png": "[encoded data removed]",
      "text/plain": [
       "<Figure size 640x480 with 1 Axes>"
      ]
     },
     "metadata": {},
     "output_type": "display_data"
    }
   ],
   "source": [
    "ax = sns.scatterplot(x=aggregated_dataframe['total_bikes'], y=residuals)\n",
    "ax.axhline(0) #horizontal line at 0"
   ]
  },
  {
   "cell_type": "markdown",
   "metadata": {},
   "source": [
    "### It seems most likely that the error calcuted from the model does not change across all the values of the independent variables. This means the residuals are not distributed with equal variance.\n",
    "\n",
    "Hence the model fails the homoscedasticity test. Trying to transform the independent variables by taking their log values (or square root) resulted in -inf values. The results from taking the exponent of the independent variables has no relevance to our analysis from an inferential standpoint."
   ]
  },
  {
   "cell_type": "code",
   "execution_count": 18,
   "metadata": {},
   "outputs": [
    {
     "name": "stdout",
     "output_type": "stream",
     "text": [
      "0.022000784727859473 0.021720011368915104\n"
     ]
    }
   ],
   "source": [
    "stat, p, f_stat, f_p = sm.stats.diagnostic.het_breuschpagan(residuals, results.model.exog)\n",
    "print(p,f_p)"
   ]
  },
  {
   "cell_type": "markdown",
   "metadata": {},
   "source": [
    "#### The residuals failed the Breusch-Pagan test. Hence the residuals are don't have equal variance."
   ]
  },
  {
   "cell_type": "code",
   "execution_count": 53,
   "metadata": {},
   "outputs": [
    {
     "data": {
      "text/plain": [
       "const          -22.622274\n",
       "review_count     3.661880\n",
       "rating           0.181687\n",
       "popularity      16.612179\n",
       "dtype: float64"
      ]
     },
     "execution_count": 53,
     "metadata": {},
     "output_type": "execute_result"
    }
   ],
   "source": [
    "results.params"
   ]
  },
  {
   "cell_type": "markdown",
   "metadata": {},
   "source": [
    "# Stretch"
   ]
  },
  {
   "cell_type": "markdown",
   "metadata": {},
   "source": [
    "How can you turn the regression model into a classification model?"
   ]
  },
  {
   "cell_type": "code",
   "execution_count": null,
   "metadata": {},
   "outputs": [],
   "source": []
  }
 ],
 "metadata": {
  "kernelspec": {
   "display_name": "Python 3",
   "language": "python",
   "name": "python3"
  },
  "language_info": {
   "codemirror_mode": {
    "name": "ipython",
    "version": 3
   },
   "file_extension": ".py",
   "mimetype": "text/x-python",
   "name": "python",
   "nbconvert_exporter": "python",
   "pygments_lexer": "ipython3",
   "version": "3.11.4"
  }
 },
 "nbformat": 4,
 "nbformat_minor": 4
}
