{
 "cells": [
  {
   "cell_type": "markdown",
   "metadata": {},
   "source": [
    "# CityBikes"
   ]
  },
  {
   "cell_type": "code",
   "execution_count": 1,
   "metadata": {},
   "outputs": [],
   "source": [
    "import requests\n",
    "from pprint import pprint\n",
    "import json\n",
    "import pandas as pd"
   ]
  },
  {
   "cell_type": "markdown",
   "metadata": {},
   "source": [
    "Send a request to CityBikes for the city of your choice. "
   ]
  },
  {
   "cell_type": "code",
   "execution_count": 2,
   "metadata": {},
   "outputs": [],
   "source": [
    "network_id = 'citi-bike-nyc'\n",
    "\n",
    "api_url = f'http://api.citybik.es/v2/networks/{network_id}'\n",
    "\n",
    "cityBikes_NYC = requests.get(api_url)"
   ]
  },
  {
   "cell_type": "markdown",
   "metadata": {},
   "source": [
    "Parse through the response to get the details you want for the bike stations in that city (latitude, longitude, number of bikes). "
   ]
  },
  {
   "cell_type": "code",
   "execution_count": 3,
   "metadata": {},
   "outputs": [
    {
     "name": "stdout",
     "output_type": "stream",
     "text": [
      "API request successful!\n"
     ]
    }
   ],
   "source": [
    "bike_data = []\n",
    "\n",
    "if cityBikes_NYC.status_code == 200:\n",
    "    print(f\"API request successful!\")\n",
    "    \n",
    "    data = cityBikes_NYC.json()\n",
    "   \n",
    "    stations = data['network']['stations']\n",
    "\n",
    "    for station in stations:\n",
    "        city_bikes = {\n",
    "            'name': station['name'],\n",
    "            'latitude': station['latitude'],\n",
    "            'longitude': station['longitude'],\n",
    "            'free_bikes': station['free_bikes'],\n",
    "            'empty_slots': station['empty_slots'],\n",
    "            'total_bikes': station['free_bikes'] + station['empty_slots']\n",
    "            }\n",
    "        \n",
    "        bike_data.append(city_bikes)\n",
    "        \n",
    "else:\n",
    "    print(f\"API request failed with status code: {cityBikes_NYC.status_code}\")"
   ]
  },
  {
   "cell_type": "markdown",
   "metadata": {},
   "source": [
    "Put your parsed results into a DataFrame."
   ]
  },
  {
   "cell_type": "code",
   "execution_count": 4,
   "metadata": {},
   "outputs": [
    {
     "data": {
      "text/html": [
       "<div>\n",
       "<style scoped>\n",
       "    .dataframe tbody tr th:only-of-type {\n",
       "        vertical-align: middle;\n",
       "    }\n",
       "\n",
       "    .dataframe tbody tr th {\n",
       "        vertical-align: top;\n",
       "    }\n",
       "\n",
       "    .dataframe thead th {\n",
       "        text-align: right;\n",
       "    }\n",
       "</style>\n",
       "<table border=\"1\" class=\"dataframe\">\n",
       "  <thead>\n",
       "    <tr style=\"text-align: right;\">\n",
       "      <th></th>\n",
       "      <th>name</th>\n",
       "      <th>latitude</th>\n",
       "      <th>longitude</th>\n",
       "      <th>free_bikes</th>\n",
       "      <th>empty_slots</th>\n",
       "      <th>total_bikes</th>\n",
       "    </tr>\n",
       "  </thead>\n",
       "  <tbody>\n",
       "    <tr>\n",
       "      <th>0</th>\n",
       "      <td>W 100 St &amp; Manhattan Ave</td>\n",
       "      <td>40.795000</td>\n",
       "      <td>-73.964500</td>\n",
       "      <td>7</td>\n",
       "      <td>30</td>\n",
       "      <td>37</td>\n",
       "    </tr>\n",
       "    <tr>\n",
       "      <th>1</th>\n",
       "      <td>7 Ave &amp; Central Park South</td>\n",
       "      <td>40.766741</td>\n",
       "      <td>-73.979069</td>\n",
       "      <td>0</td>\n",
       "      <td>0</td>\n",
       "      <td>0</td>\n",
       "    </tr>\n",
       "    <tr>\n",
       "      <th>2</th>\n",
       "      <td>28 St &amp; 41 Ave</td>\n",
       "      <td>40.751047</td>\n",
       "      <td>-73.937970</td>\n",
       "      <td>0</td>\n",
       "      <td>22</td>\n",
       "      <td>22</td>\n",
       "    </tr>\n",
       "    <tr>\n",
       "      <th>3</th>\n",
       "      <td>Frederick Douglass Blvd &amp; W 112 St</td>\n",
       "      <td>40.801694</td>\n",
       "      <td>-73.957145</td>\n",
       "      <td>33</td>\n",
       "      <td>1</td>\n",
       "      <td>34</td>\n",
       "    </tr>\n",
       "    <tr>\n",
       "      <th>4</th>\n",
       "      <td>3 Ave &amp; E 112 St</td>\n",
       "      <td>40.795508</td>\n",
       "      <td>-73.941606</td>\n",
       "      <td>18</td>\n",
       "      <td>5</td>\n",
       "      <td>23</td>\n",
       "    </tr>\n",
       "  </tbody>\n",
       "</table>\n",
       "</div>"
      ],
      "text/plain": [
       "                                 name   latitude  longitude  free_bikes  \\\n",
       "0            W 100 St & Manhattan Ave  40.795000 -73.964500           7   \n",
       "1          7 Ave & Central Park South  40.766741 -73.979069           0   \n",
       "2                      28 St & 41 Ave  40.751047 -73.937970           0   \n",
       "3  Frederick Douglass Blvd & W 112 St  40.801694 -73.957145          33   \n",
       "4                    3 Ave & E 112 St  40.795508 -73.941606          18   \n",
       "\n",
       "   empty_slots  total_bikes  \n",
       "0           30           37  \n",
       "1            0            0  \n",
       "2           22           22  \n",
       "3            1           34  \n",
       "4            5           23  "
      ]
     },
     "execution_count": 4,
     "metadata": {},
     "output_type": "execute_result"
    }
   ],
   "source": [
    "cityBikes_NYC = pd.DataFrame(bike_data)\n",
    "cityBikes_NYC.head()"
   ]
  },
  {
   "cell_type": "code",
   "execution_count": null,
   "metadata": {},
   "outputs": [],
   "source": []
  }
 ],
 "metadata": {
  "kernelspec": {
   "display_name": "Python 3",
   "language": "python",
   "name": "python3"
  },
  "language_info": {
   "codemirror_mode": {
    "name": "ipython",
    "version": 3
   },
   "file_extension": ".py",
   "mimetype": "text/x-python",
   "name": "python",
   "nbconvert_exporter": "python",
   "pygments_lexer": "ipython3",
   "version": "3.11.4"
  }
 },
 "nbformat": 4,
 "nbformat_minor": 4
}
